{
 "cells": [
  {
   "cell_type": "code",
   "execution_count": null,
   "metadata": {},
   "outputs": [],
   "source": [
    "# Check if running in Google Colab\n",
    "try:\n",
    "    import google.colab\n",
    "    IN_COLAB = True\n",
    "    print(\"Running in Google Colab environment\")\n",
    "    \n",
    "    # Clone the repository if not already present\n",
    "    !git clone https://github.com/jtbuch/mpc_dojo.git\n",
    "    %cd /content/mpc_dojo/shitty_bird\n",
    "    !pip install -e .\n",
    "    \n",
    "except ImportError:\n",
    "    IN_COLAB = False\n",
    "    print(\"Running in local environment\")"
   ]
  },
  {
   "cell_type": "code",
   "execution_count": null,
   "metadata": {},
   "outputs": [],
   "source": [
    "import jax.numpy as jnp\n",
    "import jax\n",
    "from shitty_bird.core import run_simulation\n",
    "from shitty_bird.simulations import rayleigh_benard\n",
    "from shitty_bird.utils import is_in_colab\n",
    "\n",
    "# Check if running in Google Colab\n",
    "in_colab = is_in_colab()\n",
    "print(f\"Running in Google Colab: {in_colab}\")"
   ]
  },
  {
   "cell_type": "code",
   "execution_count": 2,
   "metadata": {},
   "outputs": [],
   "source": [
    "# Configure the simulation\n",
    "config = {\n",
    "    \"n\": 96,            # Grid size\n",
    "    \"pr\": 0.71,         # Prandtl number\n",
    "    \"ra\": 1e8,          # Rayleigh number\n",
    "    \"buoy\": 0.0001,     # Buoyancy\n",
    "    \"steps\": 15000,  # Number of simulation steps\n",
    "    \"display_frequency\": 0, # Frequency of displaying the simulation\n",
    "    \"save_video\": True\n",
    "}"
   ]
  },
  {
   "cell_type": "code",
   "execution_count": 3,
   "metadata": {},
   "outputs": [
    {
     "name": "stdout",
     "output_type": "stream",
     "text": [
      "Starting Rayleigh-Benard simulation:\n",
      "  Grid: 96x96\n",
      "  Prandtl number (Pr): 0.71\n",
      "  Rayleigh number (Ra): 100000000.0\n",
      "  Buoyancy: 0.0001\n"
     ]
    },
    {
     "data": {
      "application/vnd.jupyter.widget-view+json": {
       "model_id": "2a45c9835064471c8b1043d44175a13d",
       "version_major": 2,
       "version_minor": 0
      },
      "text/plain": [
       "Output()"
      ]
     },
     "metadata": {},
     "output_type": "display_data"
    },
    {
     "data": {
      "text/html": [
       "<pre style=\"white-space:pre;overflow-x:auto;line-height:normal;font-family:Menlo,'DejaVu Sans Mono',consolas,'Courier New',monospace\"></pre>\n"
      ],
      "text/plain": []
     },
     "metadata": {},
     "output_type": "display_data"
    },
    {
     "name": "stdout",
     "output_type": "stream",
     "text": [
      "Animation saved to rb_n96_pr7.1e-01_ra1.0e+08_buoy1.0e-04.mp4\n"
     ]
    }
   ],
   "source": [
    "run_simulation(rayleigh_benard, config)"
   ]
  }
 ],
 "metadata": {
  "kernelspec": {
   "display_name": "shitty_bird",
   "language": "python",
   "name": "python3"
  },
  "language_info": {
   "codemirror_mode": {
    "name": "ipython",
    "version": 3
   },
   "file_extension": ".py",
   "mimetype": "text/x-python",
   "name": "python",
   "nbconvert_exporter": "python",
   "pygments_lexer": "ipython3",
   "version": "3.11.11"
  }
 },
 "nbformat": 4,
 "nbformat_minor": 2
}
