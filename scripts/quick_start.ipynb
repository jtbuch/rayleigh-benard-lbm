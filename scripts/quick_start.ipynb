{
 "cells": [
  {
   "cell_type": "code",
   "execution_count": null,
   "metadata": {},
   "outputs": [],
   "source": [
    "# Check if running in Google Colab\n",
    "try:\n",
    "    import google.colab\n",
    "    IN_COLAB = True\n",
    "    print(\"Running in Google Colab environment\")\n",
    "    \n",
    "    # Clone the repository if not already present\n",
    "    !git clone https://github.com/jtbuch/rayleigh-benard-lbm.git\n",
    "    %cd /content/rayleigh-benard-lbm\n",
    "    !pip install -e .\n",
    "    \n",
    "except ImportError:\n",
    "    IN_COLAB = False\n",
    "    print(\"Running in local environment\")"
   ]
  },
  {
   "cell_type": "code",
   "execution_count": null,
   "metadata": {},
   "outputs": [],
   "source": [
    "import jax.numpy as jnp\n",
    "import jax\n",
    "from utils.environment import is_in_colab\n",
    "from simulations.rayleigh_benard import rayleigh_benard\n",
    "\n",
    "# Check if running in Google Colab\n",
    "in_colab = is_in_colab()\n",
    "print(f\"Running in Google Colab: {in_colab}\")"
   ]
  },
  {
   "cell_type": "code",
   "execution_count": 2,
   "metadata": {},
   "outputs": [],
   "source": [
    "# Configure the simulation\n",
    "config = {\n",
    "    \"n\": 96,            # Grid size\n",
    "    \"pr\": 0.71,         # Prandtl number\n",
    "    \"ra\": 1e8,          # Rayleigh number\n",
    "    \"buoy\": 0.0001,     # Buoyancy\n",
    "    \"steps\": 15000,  # Number of simulation steps\n",
    "    \"display_frequency\": 0, # Frequency of displaying the simulation\n",
    "    \"save_video\": True\n",
    "}"
   ]
  },
  {
   "cell_type": "code",
   "execution_count": null,
   "metadata": {},
   "outputs": [],
   "source": [
    "rayleigh_benard(**config)"
   ]
  }
 ],
 "metadata": {
  "kernelspec": {
   "display_name": "shitty_bird",
   "language": "python",
   "name": "python3"
  },
  "language_info": {
   "codemirror_mode": {
    "name": "ipython",
    "version": 3
   },
   "file_extension": ".py",
   "mimetype": "text/x-python",
   "name": "python",
   "nbconvert_exporter": "python",
   "pygments_lexer": "ipython3",
   "version": "3.11.11"
  }
 },
 "nbformat": 4,
 "nbformat_minor": 2
}
